{
 "cells": [
  {
   "cell_type": "code",
   "execution_count": 119,
   "id": "6f49ba7f",
   "metadata": {},
   "outputs": [],
   "source": [
    "import pandas as pd\n",
    "import numpy as np\n",
    "import matplotlib.pyplot as plt\n",
    "import warnings\n",
    "warnings.filterwarnings(\"ignore\")"
   ]
  },
  {
   "cell_type": "code",
   "execution_count": 120,
   "id": "f799314f",
   "metadata": {},
   "outputs": [],
   "source": [
    "df = pd.read_csv('./CC GENERAL_preprocessed.csv')"
   ]
  },
  {
   "cell_type": "code",
   "execution_count": 121,
   "id": "a61c1c5c",
   "metadata": {},
   "outputs": [
    {
     "data": {
      "text/plain": [
       "(8950, 12)"
      ]
     },
     "execution_count": 121,
     "metadata": {},
     "output_type": "execute_result"
    }
   ],
   "source": [
    "df.shape"
   ]
  },
  {
   "cell_type": "markdown",
   "id": "1b76caef",
   "metadata": {},
   "source": [
    "### PCA Implementation"
   ]
  },
  {
   "cell_type": "code",
   "execution_count": 129,
   "id": "4fbbda78",
   "metadata": {},
   "outputs": [
    {
     "name": "stdout",
     "output_type": "stream",
     "text": [
      "[0.42 0.34 0.1  0.07 0.05]\n",
      "[0.42 0.76 0.86 0.93 0.98]\n"
     ]
    },
    {
     "data": {
      "text/plain": [
       "(8950, 4)"
      ]
     },
     "execution_count": 129,
     "metadata": {},
     "output_type": "execute_result"
    }
   ],
   "source": [
    "class PCA ():\n",
    "\n",
    "    def __init__(self,n_components):\n",
    "        self.n_components = n_components\n",
    "        if self.n_components > 1:\n",
    "            self.type = 'var'\n",
    "        else:\n",
    "            self.type = 'ratio'\n",
    "\n",
    "    def fit(self,X):\n",
    "        # mean\n",
    "        self.mean = np.mean(X,axis=0)\n",
    "        \n",
    "        # variance\n",
    "        self.variance = np.var(X, axis = 0)\n",
    "        \n",
    "        \n",
    "        X_new = (X - self.mean )\n",
    "        \n",
    "        # covariance\n",
    "        self.cov = np.cov(X_new.T)\n",
    "\n",
    "        # eigenvalues, eigenvectors\n",
    "        eigenvalues, eigenvectors = np.linalg.eig(self.cov)\n",
    "        eigenvectors = eigenvectors.T\n",
    "     \n",
    "        # sort eigenvalues, eigenvectors\n",
    "        idxs = np.argsort(eigenvalues)[::-1]\n",
    "        eigenvalues = eigenvalues[idxs]\n",
    "        eigenvectors = eigenvectors[idxs]\n",
    "        \n",
    "        # explained variance\n",
    "        eigenvalues = np.round(eigenvalues/np.sum(eigenvalues, axis = 0),2)\n",
    "        \n",
    "        # cummulative explained variance\n",
    "        self.cum_explained_var = np.cumsum(eigenvalues)\n",
    "\n",
    "        # components\n",
    "        if self.type == 'var':\n",
    "            self.components = eigenvectors[: self.n_components]\n",
    "            self.explaind_variance = eigenvalues[:self.n_components+1]\n",
    "            self.index_of_ratio = self.n_components\n",
    "\n",
    "        else:\n",
    "            self.index_of_ratio =  np.where(self.cum_explained_var >= self.n_components)[0][0]\n",
    "            self.explaind_variance = eigenvalues[:self.index_of_ratio+1]\n",
    "            self.components = eigenvectors[:self.index_of_ratio]\n",
    "   \n",
    "        X_new = np.dot(X_new,self.components.T)\n",
    "        return X_new\n",
    "\n",
    "    def transform(self,Z):\n",
    "        Z_new = (Z - self.mean )/ self.variance\n",
    "        Z_new = Z_new * self.components\n",
    "\n",
    "        return Z_new\n",
    "\n",
    "    #optional \n",
    "    def plot_explained_variance(self):\n",
    "        plt.bar(np.arange(self.index_of_ratio+1), self.cum_explained_var[:self.index_of_ratio+1])\n",
    "        plt.axhline(self.cum_explained_var[self.index_of_ratio], color='red', ls='dotted')\n",
    "        plt.xlabel(\"Index\")\n",
    "        plt.ylabel(\"Threshold\")\n",
    "        plt.title(\"plot_explained_variance\")\n",
    "        plt.show()\n",
    "\n",
    "pca_section = PCA(n_components=0.95)\n",
    "X_transofmed = pca_section.fit(df.values)\n",
    "pca_section.components #return matrix (4,n)\n",
    "print(pca_section.explaind_variance)\n",
    "print(pca_section.cum_explained_var[:pca_section.index_of_ratio+1])\n",
    "X_transofmed.shape"
   ]
  },
  {
   "cell_type": "code",
   "execution_count": 123,
   "id": "4fcc1c68",
   "metadata": {},
   "outputs": [
    {
     "data": {
      "image/png": "[encoded data removed]",
      "text/plain": [
       "<Figure size 432x288 with 1 Axes>"
      ]
     },
     "metadata": {
      "needs_background": "light"
     },
     "output_type": "display_data"
    }
   ],
   "source": [
    "pca_section.plot_explained_variance()"
   ]
  },
  {
   "cell_type": "code",
   "execution_count": 124,
   "id": "2b4eaf42",
   "metadata": {},
   "outputs": [
    {
     "name": "stdout",
     "output_type": "stream",
     "text": [
      "[0.42 0.34 0.1  0.07 0.05]\n",
      "[0.42 0.76 0.86 0.93 0.98]\n"
     ]
    }
   ],
   "source": [
    "pca_section = PCA(n_components=4)\n",
    "X_transofmed = pca_section.fit(df.values)\n",
    "pca_section.components #return matrix (4,n)\n",
    "print(pca_section.explaind_variance)\n",
    "print(pca_section.cum_explained_var[:pca_section.index_of_ratio+1])"
   ]
  },
  {
   "cell_type": "code",
   "execution_count": 125,
   "id": "5f7ea638",
   "metadata": {},
   "outputs": [
    {
     "data": {
      "image/png": "[encoded data removed]",
      "text/plain": [
       "<Figure size 432x288 with 1 Axes>"
      ]
     },
     "metadata": {
      "needs_background": "light"
     },
     "output_type": "display_data"
    }
   ],
   "source": [
    "pca_section.plot_explained_variance()"
   ]
  },
  {
   "cell_type": "markdown",
   "id": "40297b7a",
   "metadata": {},
   "source": [
    "### Sklearn"
   ]
  },
  {
   "cell_type": "code",
   "execution_count": 126,
   "id": "5bce6dc8",
   "metadata": {},
   "outputs": [
    {
     "name": "stdout",
     "output_type": "stream",
     "text": [
      "[0.4249138  0.34068371 0.10280616 0.06717709 0.05458584]\n"
     ]
    },
    {
     "data": {
      "text/plain": [
       "array([0.4249138 , 0.76559751, 0.86840367, 0.93558076, 0.9901666 ])"
      ]
     },
     "execution_count": 126,
     "metadata": {},
     "output_type": "execute_result"
    }
   ],
   "source": [
    "from sklearn.decomposition import PCA\n",
    "pca = PCA(n_components=0.95)\n",
    "pca.fit(df.values)\n",
    "print(pca.explained_variance_ratio_)\n",
    "cum_explained_var = pca.explained_variance_ratio_.cumsum()\n",
    "cum_explained_var"
   ]
  },
  {
   "cell_type": "code",
   "execution_count": 127,
   "id": "dd2e6a8a",
   "metadata": {},
   "outputs": [],
   "source": [
    "index_of_ratio = 5"
   ]
  },
  {
   "cell_type": "code",
   "execution_count": 128,
   "id": "07b74b74",
   "metadata": {},
   "outputs": [
    {
     "data": {
      "image/png": "[encoded data removed]",
      "text/plain": [
       "<Figure size 432x288 with 1 Axes>"
      ]
     },
     "metadata": {
      "needs_background": "light"
     },
     "output_type": "display_data"
    }
   ],
   "source": [
    "plt.bar( np.arange(index_of_ratio) , cum_explained_var[0:index_of_ratio])\n",
    "plt.axhline(cum_explained_var[index_of_ratio-1], color='red', ls='dotted')\n",
    "plt.xlabel(\"Index\")\n",
    "plt.ylabel(\"Threshold\")\n",
    "plt.title(\"plot_explained_variance\")\n",
    "plt.show()"
   ]
  },
  {
   "cell_type": "code",
   "execution_count": null,
   "id": "579837cc",
   "metadata": {},
   "outputs": [],
   "source": []
  }
 ],
 "metadata": {
  "kernelspec": {
   "display_name": "Python 3 (ipykernel)",
   "language": "python",
   "name": "python3"
  },
  "language_info": {
   "codemirror_mode": {
    "name": "ipython",
    "version": 3
   },
   "file_extension": ".py",
   "mimetype": "text/x-python",
   "name": "python",
   "nbconvert_exporter": "python",
   "pygments_lexer": "ipython3",
   "version": "3.9.7"
  }
 },
 "nbformat": 4,
 "nbformat_minor": 5
}
