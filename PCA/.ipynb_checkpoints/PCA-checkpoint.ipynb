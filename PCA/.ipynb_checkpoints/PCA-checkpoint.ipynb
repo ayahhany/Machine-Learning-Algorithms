{
 "cells": [
  {
   "cell_type": "code",
   "execution_count": 2,
   "id": "6f49ba7f",
   "metadata": {},
   "outputs": [],
   "source": [
    "import pandas as pd\n",
    "import numpy as np\n",
    "import matplotlib.pyplot as plt\n",
    "import warnings\n",
    "warnings.filterwarnings(\"ignore\")"
   ]
  },
  {
   "cell_type": "code",
   "execution_count": 5,
   "id": "b7c88a37",
   "metadata": {},
   "outputs": [
    {
     "name": "stdout",
     "output_type": "stream",
     "text": [
      "The shape of the dataset is: (8950, 18)\n"
     ]
    }
   ],
   "source": [
    "#read the data\n",
    "\n",
    "data_path = '/home/ayah/Desktop/Hierarchical Clustering/CC GENERAL.csv'  #the path where you downloaded the data\n",
    "df = pd.read_csv(data_path)\n",
    "\n",
    "print('The shape of the dataset is:', df.shape)"
   ]
  },
  {
   "cell_type": "code",
   "execution_count": 6,
   "id": "7a760f09",
   "metadata": {},
   "outputs": [],
   "source": [
    "df_copy=df.copy()"
   ]
  },
  {
   "cell_type": "code",
   "execution_count": 7,
   "id": "8fd3f1ba",
   "metadata": {},
   "outputs": [],
   "source": [
    "#solution: fill null values with column mean \n",
    "df['CREDIT_LIMIT'].fillna(np.mean(df['CREDIT_LIMIT']), inplace = True)\n",
    "df['MINIMUM_PAYMENTS'].fillna(np.mean(df['MINIMUM_PAYMENTS']), inplace= True)\n"
   ]
  },
  {
   "cell_type": "code",
   "execution_count": 8,
   "id": "ca3f51d9",
   "metadata": {},
   "outputs": [
    {
     "name": "stdout",
     "output_type": "stream",
     "text": [
      "BALANCE 695\n",
      "BALANCE_FREQUENCY 1493\n",
      "PURCHASES 808\n",
      "ONEOFF_PURCHASES 1013\n",
      "INSTALLMENTS_PURCHASES 867\n",
      "CASH_ADVANCE 1030\n",
      "PURCHASES_FREQUENCY 0\n",
      "ONEOFF_PURCHASES_FREQUENCY 782\n",
      "PURCHASES_INSTALLMENTS_FREQUENCY 0\n",
      "CASH_ADVANCE_FREQUENCY 525\n",
      "CASH_ADVANCE_TRX 804\n",
      "PURCHASES_TRX 766\n",
      "CREDIT_LIMIT 248\n",
      "PAYMENTS 808\n",
      "MINIMUM_PAYMENTS 774\n",
      "PRC_FULL_PAYMENT 1474\n",
      "TENURE 1366\n"
     ]
    }
   ],
   "source": [
    "outliers = {}\n",
    "def check_outliers():\n",
    "    for col in df.columns[1:]:\n",
    "        sorted_series = df[col].sort_values()\n",
    "        q1, q3= np.percentile(sorted_series,[25,75])\n",
    "        iqr = q3 - q1\n",
    "        lower_bound = q1 -(1.5 * iqr) \n",
    "        upper_bound = q3 +(1.5 * iqr)\n",
    "        number_of_outliers =  sum(np.logical_or(df[col]<lower_bound, df[col]>upper_bound))\n",
    "        outliers[col] = number_of_outliers\n",
    "        print(col, number_of_outliers)\n",
    "check_outliers()"
   ]
  },
  {
   "cell_type": "code",
   "execution_count": 9,
   "id": "a808f8df",
   "metadata": {},
   "outputs": [],
   "source": [
    "#solution: cube root transformation for 2nd, 3rd issues\n",
    "for key,value in outliers.items():\n",
    "    if outliers[key]>0:\n",
    "        df[key] =(df[key]**(1/3))"
   ]
  },
  {
   "cell_type": "code",
   "execution_count": 10,
   "id": "ad0440d8",
   "metadata": {},
   "outputs": [],
   "source": [
    "# drop columns with below -1 or above 1 skewness after transformation\n",
    "df.drop(['BALANCE_FREQUENCY', 'CREDIT_LIMIT', 'MINIMUM_PAYMENTS', 'PRC_FULL_PAYMENT', 'TENURE'],axis = 1 ,inplace = True)\n",
    "#drop categorical column\n",
    "df.drop(['CUST_ID'],axis = 1 ,inplace = True)"
   ]
  },
  {
   "cell_type": "code",
   "execution_count": 11,
   "id": "71f16d73",
   "metadata": {
    "scrolled": true
   },
   "outputs": [
    {
     "data": {
      "text/html": [
       "<div>\n",
       "<style scoped>\n",
       "    .dataframe tbody tr th:only-of-type {\n",
       "        vertical-align: middle;\n",
       "    }\n",
       "\n",
       "    .dataframe tbody tr th {\n",
       "        vertical-align: top;\n",
       "    }\n",
       "\n",
       "    .dataframe thead th {\n",
       "        text-align: right;\n",
       "    }\n",
       "</style>\n",
       "<table border=\"1\" class=\"dataframe\">\n",
       "  <thead>\n",
       "    <tr style=\"text-align: right;\">\n",
       "      <th></th>\n",
       "      <th>BALANCE</th>\n",
       "      <th>PURCHASES</th>\n",
       "      <th>ONEOFF_PURCHASES</th>\n",
       "      <th>INSTALLMENTS_PURCHASES</th>\n",
       "      <th>CASH_ADVANCE</th>\n",
       "      <th>PURCHASES_FREQUENCY</th>\n",
       "      <th>ONEOFF_PURCHASES_FREQUENCY</th>\n",
       "      <th>PURCHASES_INSTALLMENTS_FREQUENCY</th>\n",
       "      <th>CASH_ADVANCE_FREQUENCY</th>\n",
       "      <th>CASH_ADVANCE_TRX</th>\n",
       "      <th>PURCHASES_TRX</th>\n",
       "      <th>PAYMENTS</th>\n",
       "    </tr>\n",
       "  </thead>\n",
       "  <tbody>\n",
       "    <tr>\n",
       "      <th>0</th>\n",
       "      <td>3.445433</td>\n",
       "      <td>4.569298</td>\n",
       "      <td>0.000000</td>\n",
       "      <td>4.569298</td>\n",
       "      <td>0.000000</td>\n",
       "      <td>0.166667</td>\n",
       "      <td>0.000000</td>\n",
       "      <td>0.083333</td>\n",
       "      <td>0.000000</td>\n",
       "      <td>0.000000</td>\n",
       "      <td>1.259921</td>\n",
       "      <td>5.865547</td>\n",
       "    </tr>\n",
       "    <tr>\n",
       "      <th>1</th>\n",
       "      <td>14.739913</td>\n",
       "      <td>0.000000</td>\n",
       "      <td>0.000000</td>\n",
       "      <td>0.000000</td>\n",
       "      <td>18.607791</td>\n",
       "      <td>0.000000</td>\n",
       "      <td>0.000000</td>\n",
       "      <td>0.000000</td>\n",
       "      <td>0.629961</td>\n",
       "      <td>1.587401</td>\n",
       "      <td>0.000000</td>\n",
       "      <td>16.009152</td>\n",
       "    </tr>\n",
       "    <tr>\n",
       "      <th>2</th>\n",
       "      <td>13.563304</td>\n",
       "      <td>9.178217</td>\n",
       "      <td>9.178217</td>\n",
       "      <td>0.000000</td>\n",
       "      <td>0.000000</td>\n",
       "      <td>1.000000</td>\n",
       "      <td>1.000000</td>\n",
       "      <td>0.000000</td>\n",
       "      <td>0.000000</td>\n",
       "      <td>0.000000</td>\n",
       "      <td>2.289428</td>\n",
       "      <td>8.536483</td>\n",
       "    </tr>\n",
       "    <tr>\n",
       "      <th>3</th>\n",
       "      <td>11.856320</td>\n",
       "      <td>11.444598</td>\n",
       "      <td>11.444598</td>\n",
       "      <td>0.000000</td>\n",
       "      <td>5.903914</td>\n",
       "      <td>0.083333</td>\n",
       "      <td>0.436790</td>\n",
       "      <td>0.000000</td>\n",
       "      <td>0.436790</td>\n",
       "      <td>1.000000</td>\n",
       "      <td>1.000000</td>\n",
       "      <td>0.000000</td>\n",
       "    </tr>\n",
       "    <tr>\n",
       "      <th>4</th>\n",
       "      <td>9.351197</td>\n",
       "      <td>2.519842</td>\n",
       "      <td>2.519842</td>\n",
       "      <td>0.000000</td>\n",
       "      <td>0.000000</td>\n",
       "      <td>0.083333</td>\n",
       "      <td>0.436790</td>\n",
       "      <td>0.000000</td>\n",
       "      <td>0.000000</td>\n",
       "      <td>0.000000</td>\n",
       "      <td>1.000000</td>\n",
       "      <td>8.786475</td>\n",
       "    </tr>\n",
       "    <tr>\n",
       "      <th>...</th>\n",
       "      <td>...</td>\n",
       "      <td>...</td>\n",
       "      <td>...</td>\n",
       "      <td>...</td>\n",
       "      <td>...</td>\n",
       "      <td>...</td>\n",
       "      <td>...</td>\n",
       "      <td>...</td>\n",
       "      <td>...</td>\n",
       "      <td>...</td>\n",
       "      <td>...</td>\n",
       "      <td>...</td>\n",
       "    </tr>\n",
       "    <tr>\n",
       "      <th>8945</th>\n",
       "      <td>3.054326</td>\n",
       "      <td>6.627616</td>\n",
       "      <td>0.000000</td>\n",
       "      <td>6.627616</td>\n",
       "      <td>0.000000</td>\n",
       "      <td>1.000000</td>\n",
       "      <td>0.000000</td>\n",
       "      <td>0.833333</td>\n",
       "      <td>0.000000</td>\n",
       "      <td>0.000000</td>\n",
       "      <td>1.817121</td>\n",
       "      <td>6.879534</td>\n",
       "    </tr>\n",
       "    <tr>\n",
       "      <th>8946</th>\n",
       "      <td>2.676951</td>\n",
       "      <td>6.694330</td>\n",
       "      <td>0.000000</td>\n",
       "      <td>6.694330</td>\n",
       "      <td>0.000000</td>\n",
       "      <td>1.000000</td>\n",
       "      <td>0.000000</td>\n",
       "      <td>0.833333</td>\n",
       "      <td>0.000000</td>\n",
       "      <td>0.000000</td>\n",
       "      <td>1.817121</td>\n",
       "      <td>6.509739</td>\n",
       "    </tr>\n",
       "    <tr>\n",
       "      <th>8947</th>\n",
       "      <td>2.860204</td>\n",
       "      <td>5.246332</td>\n",
       "      <td>0.000000</td>\n",
       "      <td>5.246332</td>\n",
       "      <td>0.000000</td>\n",
       "      <td>0.833333</td>\n",
       "      <td>0.000000</td>\n",
       "      <td>0.666667</td>\n",
       "      <td>0.000000</td>\n",
       "      <td>0.000000</td>\n",
       "      <td>1.709976</td>\n",
       "      <td>4.331565</td>\n",
       "    </tr>\n",
       "    <tr>\n",
       "      <th>8948</th>\n",
       "      <td>2.378604</td>\n",
       "      <td>0.000000</td>\n",
       "      <td>0.000000</td>\n",
       "      <td>0.000000</td>\n",
       "      <td>3.318923</td>\n",
       "      <td>0.000000</td>\n",
       "      <td>0.000000</td>\n",
       "      <td>0.000000</td>\n",
       "      <td>0.550322</td>\n",
       "      <td>1.259921</td>\n",
       "      <td>0.000000</td>\n",
       "      <td>3.745624</td>\n",
       "    </tr>\n",
       "    <tr>\n",
       "      <th>8949</th>\n",
       "      <td>7.196527</td>\n",
       "      <td>10.301643</td>\n",
       "      <td>10.301643</td>\n",
       "      <td>0.000000</td>\n",
       "      <td>5.027053</td>\n",
       "      <td>0.666667</td>\n",
       "      <td>0.873581</td>\n",
       "      <td>0.000000</td>\n",
       "      <td>0.693361</td>\n",
       "      <td>1.259921</td>\n",
       "      <td>2.843867</td>\n",
       "      <td>3.982536</td>\n",
       "    </tr>\n",
       "  </tbody>\n",
       "</table>\n",
       "<p>8950 rows × 12 columns</p>\n",
       "</div>"
      ],
      "text/plain": [
       "        BALANCE  PURCHASES  ONEOFF_PURCHASES  INSTALLMENTS_PURCHASES  \\\n",
       "0      3.445433   4.569298          0.000000                4.569298   \n",
       "1     14.739913   0.000000          0.000000                0.000000   \n",
       "2     13.563304   9.178217          9.178217                0.000000   \n",
       "3     11.856320  11.444598         11.444598                0.000000   \n",
       "4      9.351197   2.519842          2.519842                0.000000   \n",
       "...         ...        ...               ...                     ...   \n",
       "8945   3.054326   6.627616          0.000000                6.627616   \n",
       "8946   2.676951   6.694330          0.000000                6.694330   \n",
       "8947   2.860204   5.246332          0.000000                5.246332   \n",
       "8948   2.378604   0.000000          0.000000                0.000000   \n",
       "8949   7.196527  10.301643         10.301643                0.000000   \n",
       "\n",
       "      CASH_ADVANCE  PURCHASES_FREQUENCY  ONEOFF_PURCHASES_FREQUENCY  \\\n",
       "0         0.000000             0.166667                    0.000000   \n",
       "1        18.607791             0.000000                    0.000000   \n",
       "2         0.000000             1.000000                    1.000000   \n",
       "3         5.903914             0.083333                    0.436790   \n",
       "4         0.000000             0.083333                    0.436790   \n",
       "...            ...                  ...                         ...   \n",
       "8945      0.000000             1.000000                    0.000000   \n",
       "8946      0.000000             1.000000                    0.000000   \n",
       "8947      0.000000             0.833333                    0.000000   \n",
       "8948      3.318923             0.000000                    0.000000   \n",
       "8949      5.027053             0.666667                    0.873581   \n",
       "\n",
       "      PURCHASES_INSTALLMENTS_FREQUENCY  CASH_ADVANCE_FREQUENCY  \\\n",
       "0                             0.083333                0.000000   \n",
       "1                             0.000000                0.629961   \n",
       "2                             0.000000                0.000000   \n",
       "3                             0.000000                0.436790   \n",
       "4                             0.000000                0.000000   \n",
       "...                                ...                     ...   \n",
       "8945                          0.833333                0.000000   \n",
       "8946                          0.833333                0.000000   \n",
       "8947                          0.666667                0.000000   \n",
       "8948                          0.000000                0.550322   \n",
       "8949                          0.000000                0.693361   \n",
       "\n",
       "      CASH_ADVANCE_TRX  PURCHASES_TRX   PAYMENTS  \n",
       "0             0.000000       1.259921   5.865547  \n",
       "1             1.587401       0.000000  16.009152  \n",
       "2             0.000000       2.289428   8.536483  \n",
       "3             1.000000       1.000000   0.000000  \n",
       "4             0.000000       1.000000   8.786475  \n",
       "...                ...            ...        ...  \n",
       "8945          0.000000       1.817121   6.879534  \n",
       "8946          0.000000       1.817121   6.509739  \n",
       "8947          0.000000       1.709976   4.331565  \n",
       "8948          1.259921       0.000000   3.745624  \n",
       "8949          1.259921       2.843867   3.982536  \n",
       "\n",
       "[8950 rows x 12 columns]"
      ]
     },
     "execution_count": 11,
     "metadata": {},
     "output_type": "execute_result"
    }
   ],
   "source": [
    "df"
   ]
  },
  {
   "cell_type": "code",
   "execution_count": 12,
   "id": "3be318b4",
   "metadata": {},
   "outputs": [
    {
     "data": {
      "text/plain": [
       "array([ 4.56929774,  0.        ,  9.17821721, ...,  5.24633153,\n",
       "        0.        , 10.301643  ])"
      ]
     },
     "execution_count": 12,
     "metadata": {},
     "output_type": "execute_result"
    }
   ],
   "source": [
    "df[\"PURCHASES\"].values"
   ]
  },
  {
   "cell_type": "code",
   "execution_count": 13,
   "id": "035f793f",
   "metadata": {},
   "outputs": [
    {
     "data": {
      "text/plain": [
       "[9.359329869246215,\n",
       " 7.0530375775415015,\n",
       " 4.504023869382342,\n",
       " 4.4086221332458715,\n",
       " 5.258266539211674,\n",
       " 0.4903505483798885,\n",
       " 0.35084180981886337,\n",
       " 0.3644373415642452,\n",
       " 0.2985776670423216,\n",
       " 0.8134371089977558,\n",
       " 1.7885120620770387,\n",
       " 10.141502997448434]"
      ]
     },
     "execution_count": 13,
     "metadata": {},
     "output_type": "execute_result"
    }
   ],
   "source": [
    "np.mean(df,axis=0).tolist()"
   ]
  },
  {
   "cell_type": "code",
   "execution_count": 291,
   "id": "728297ff",
   "metadata": {},
   "outputs": [
    {
     "data": {
      "text/plain": [
       "7.0530375775415015"
      ]
     },
     "execution_count": 291,
     "metadata": {},
     "output_type": "execute_result"
    }
   ],
   "source": [
    "mean['PURCHASES']"
   ]
  },
  {
   "cell_type": "markdown",
   "id": "1b76caef",
   "metadata": {},
   "source": [
    "### PCA Implementation"
   ]
  },
  {
   "cell_type": "code",
   "execution_count": 3,
   "id": "4fbbda78",
   "metadata": {},
   "outputs": [
    {
     "name": "stdout",
     "output_type": "stream",
     "text": [
      "[1.]\n",
      "[1.]\n"
     ]
    }
   ],
   "source": [
    "class PCA ():\n",
    "\n",
    "    def __init__(self,n_components):\n",
    "        self.n_components = n_components\n",
    "        if self.n_components > 1:\n",
    "            self.type = 'var'\n",
    "        else:\n",
    "            self.type = 'ratio'\n",
    "\n",
    "    def fit(self,X):\n",
    "        # mean\n",
    "        self.mean = np.mean(X,axis=0)\n",
    "        \n",
    "        # variance\n",
    "        self.variance = np.var(X, axis = 0)\n",
    "        \n",
    "        \n",
    "        X_new = (X - self.mean )\n",
    "        \n",
    "        # covariance\n",
    "        self.cov = np.cov(X_new.T)\n",
    "\n",
    "        # eigenvalues, eigenvectors\n",
    "        eigenvalues, eigenvectors = np.linalg.eig(self.cov)\n",
    "        eigenvectors = eigenvectors.T\n",
    "     \n",
    "        # sort eigenvalues, eigenvectors\n",
    "        idxs = np.argsort(eigenvalues)[::-1]\n",
    "        eigenvalues = eigenvalues[idxs]\n",
    "        eigenvectors = eigenvectors[idxs]\n",
    "        \n",
    "        # explained variance\n",
    "        eigenvalues = np.round(eigenvalues/np.sum(eigenvalues, axis = 0),2)\n",
    "        \n",
    "        # cummulative explained variance\n",
    "        self.cum_explained_var = np.cumsum(eigenvalues)\n",
    "\n",
    "        # components\n",
    "        if self.type == 'var':\n",
    "            self.components = eigenvectors[: self.n_components]\n",
    "            self.explaind_variance = eigenvalues[:self.n_components+1]\n",
    "            self.index_of_ratio = self.n_components\n",
    "\n",
    "        else:\n",
    "            self.index_of_ratio =  np.where(self.cum_explained_var >= self.n_components)[0][0]\n",
    "            self.explaind_variance = eigenvalues[:self.index_of_ratio+1]\n",
    "            self.components = eigenvectors[:self.index_of_ratio]\n",
    "   \n",
    "        X_new = np.dot(X_new,self.components.T)\n",
    "        return X_new\n",
    "\n",
    "    def transform(self,Z):\n",
    "        Z_new = (Z - self.mean )/ self.variance\n",
    "        Z_new = Z_new * self.components\n",
    "\n",
    "        return Z_new\n",
    "\n",
    "    #optional \n",
    "    def plot_explained_variance(self):\n",
    "        plt.bar(np.arange(self.index_of_ratio+1), self.cum_explained_var[:self.index_of_ratio+1])\n",
    "        plt.axhline(self.cum_explained_var[self.index_of_ratio], color='red', ls='dotted')\n",
    "        plt.xlabel(\"Index\")\n",
    "        plt.ylabel(\"Threshold\")\n",
    "        plt.title(\"plot_explained_variance\")\n",
    "        plt.show()\n",
    "\n",
    "df = pd.read_csv('./CC GENERAL_preprocessed.csv')\n",
    "pca_section = PCA(n_components=0.95)\n",
    "X_transofmed = pca_section.fit(df.values)\n",
    "pca_section.components #return matrix (4,n)\n",
    "print(pca_section.explaind_variance)\n",
    "print(pca_section.cum_explained_var[:pca_section.index_of_ratio+1])"
   ]
  },
  {
   "cell_type": "code",
   "execution_count": 4,
   "id": "4fcc1c68",
   "metadata": {},
   "outputs": [
    {
     "data": {
      "image/png": "[encoded data removed]",
      "text/plain": [
       "<Figure size 432x288 with 1 Axes>"
      ]
     },
     "metadata": {
      "needs_background": "light"
     },
     "output_type": "display_data"
    }
   ],
   "source": [
    "pca_section.plot_explained_variance()"
   ]
  },
  {
   "cell_type": "code",
   "execution_count": 397,
   "id": "2b4eaf42",
   "metadata": {},
   "outputs": [
    {
     "name": "stdout",
     "output_type": "stream",
     "text": [
      "[0.42 0.34 0.1  0.07 0.05]\n",
      "[0.42 0.76 0.86 0.93 0.98]\n"
     ]
    }
   ],
   "source": [
    "pca_section = PCA(n_components=4)\n",
    "X_transofmed = pca_section.fit(df.values)\n",
    "pca_section.components #return matrix (4,n)\n",
    "print(pca_section.explaind_variance)\n",
    "print(pca_section.cum_explained_var[:pca_section.index_of_ratio+1])"
   ]
  },
  {
   "cell_type": "code",
   "execution_count": 398,
   "id": "5f7ea638",
   "metadata": {},
   "outputs": [
    {
     "data": {
      "image/png": "[encoded data removed]",
      "text/plain": [
       "<Figure size 432x288 with 1 Axes>"
      ]
     },
     "metadata": {
      "needs_background": "light"
     },
     "output_type": "display_data"
    }
   ],
   "source": [
    "pca_section.plot_explained_variance()"
   ]
  },
  {
   "cell_type": "markdown",
   "id": "40297b7a",
   "metadata": {},
   "source": [
    "### Sklearn"
   ]
  },
  {
   "cell_type": "code",
   "execution_count": 394,
   "id": "5bce6dc8",
   "metadata": {},
   "outputs": [
    {
     "name": "stdout",
     "output_type": "stream",
     "text": [
      "[0.4249138  0.34068371 0.10280616 0.06717709 0.05458584]\n"
     ]
    },
    {
     "data": {
      "text/plain": [
       "array([0.4249138 , 0.76559751, 0.86840367, 0.93558076, 0.9901666 ])"
      ]
     },
     "execution_count": 394,
     "metadata": {},
     "output_type": "execute_result"
    }
   ],
   "source": [
    "from sklearn.decomposition import PCA\n",
    "pca = PCA(n_components=0.95)\n",
    "pca.fit(df.values)\n",
    "print(pca.explained_variance_ratio_)\n",
    "cum_explained_var = pca.explained_variance_ratio_.cumsum()\n",
    "cum_explained_var"
   ]
  },
  {
   "cell_type": "code",
   "execution_count": 373,
   "id": "dd2e6a8a",
   "metadata": {},
   "outputs": [],
   "source": [
    "index_of_ratio = 5"
   ]
  },
  {
   "cell_type": "code",
   "execution_count": 381,
   "id": "07b74b74",
   "metadata": {},
   "outputs": [
    {
     "data": {
      "image/png": "[encoded data removed]",
      "text/plain": [
       "<Figure size 432x288 with 1 Axes>"
      ]
     },
     "metadata": {
      "needs_background": "light"
     },
     "output_type": "display_data"
    }
   ],
   "source": [
    "plt.bar( np.arange(index_of_ratio) , cum_explained_var[0:index_of_ratio])\n",
    "plt.axhline(cum_explained_var[index_of_ratio-1], color='red', ls='dotted')\n",
    "plt.xlabel(\"Index\")\n",
    "plt.ylabel(\"Threshold\")\n",
    "plt.title(\"plot_explained_variance\")\n",
    "plt.show()"
   ]
  },
  {
   "cell_type": "code",
   "execution_count": null,
   "id": "579837cc",
   "metadata": {},
   "outputs": [],
   "source": []
  }
 ],
 "metadata": {
  "kernelspec": {
   "display_name": "Python 3 (ipykernel)",
   "language": "python",
   "name": "python3"
  },
  "language_info": {
   "codemirror_mode": {
    "name": "ipython",
    "version": 3
   },
   "file_extension": ".py",
   "mimetype": "text/x-python",
   "name": "python",
   "nbconvert_exporter": "python",
   "pygments_lexer": "ipython3",
   "version": "3.9.7"
  }
 },
 "nbformat": 4,
 "nbformat_minor": 5
}
