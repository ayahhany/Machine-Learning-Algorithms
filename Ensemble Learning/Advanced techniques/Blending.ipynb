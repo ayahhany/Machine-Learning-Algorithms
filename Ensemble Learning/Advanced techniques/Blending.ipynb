{
  "nbformat": 4,
  "nbformat_minor": 0,
  "metadata": {
    "colab": {
      "name": "Blending.ipynb",
      "provenance": [],
      "collapsed_sections": []
    },
    "kernelspec": {
      "name": "python3",
      "display_name": "Python 3"
    },
    "language_info": {
      "name": "python"
    }
  },
  "cells": [
    {
      "cell_type": "markdown",
      "source": [
        "1. The train set is split into training and validation sets \n",
        "\n",
        "2. Models are fitted on the training set \n",
        "\n",
        "3. The predictions are made on the validation set and the test set \n",
        "\n",
        "4. The validation set and its predictions are used as features to build a new model \n",
        "\n",
        "5. This model is used to make final predictions on the test and meta features   "
      ],
      "metadata": {
        "id": "OxqgG6JjCeiH"
      }
    },
    {
      "cell_type": "code",
      "execution_count": 48,
      "metadata": {
        "id": "aeMxZbmyCOKI"
      },
      "outputs": [],
      "source": [
        "import pandas as pd\n",
        "import numpy as np"
      ]
    },
    {
      "cell_type": "code",
      "source": [
        "data = pd.read_csv('titanic_preprocessed.csv')\n",
        "X = data.drop(['Survived'], axis = 1)\n",
        "y = data['Survived']"
      ],
      "metadata": {
        "id": "4k-xn-AZC6yp"
      },
      "execution_count": 49,
      "outputs": []
    },
    {
      "cell_type": "code",
      "source": [
        "from sklearn.model_selection import train_test_split"
      ],
      "metadata": {
        "id": "z1PJMoXsCpt8"
      },
      "execution_count": 50,
      "outputs": []
    },
    {
      "cell_type": "code",
      "source": [
        "X_train, X_test, y_train, y_test = train_test_split(X,y, test_size = 0.25)"
      ],
      "metadata": {
        "id": "0OI-1DabC_wW"
      },
      "execution_count": 51,
      "outputs": []
    },
    {
      "cell_type": "code",
      "source": [
        "X_train, X_valid, y_train, y_valid = train_test_split(X_test,y_test, test_size = 0.25)"
      ],
      "metadata": {
        "id": "WFLL463wfdgp"
      },
      "execution_count": 52,
      "outputs": []
    },
    {
      "cell_type": "code",
      "source": [
        "# base models\n",
        "from sklearn.tree import DecisionTreeClassifier\n",
        "from sklearn.neighbors import KNeighborsClassifier \n"
      ],
      "metadata": {
        "id": "KIjZqZ_0DB3h"
      },
      "execution_count": 53,
      "outputs": []
    },
    {
      "cell_type": "code",
      "source": [
        "# model 1 : Decision Tree\n",
        "model1 = DecisionTreeClassifier()\n",
        "model1.fit(X_train, y_train)"
      ],
      "metadata": {
        "colab": {
          "base_uri": "https://localhost:8080/"
        },
        "id": "WtAUFo6tTitC",
        "outputId": "1208d69c-d223-473c-a0ab-142811e8badc"
      },
      "execution_count": 54,
      "outputs": [
        {
          "output_type": "execute_result",
          "data": {
            "text/plain": [
              "DecisionTreeClassifier()"
            ]
          },
          "metadata": {},
          "execution_count": 54
        }
      ]
    },
    {
      "cell_type": "code",
      "source": [
        "val_pred1 = model1.predict(X_valid)\n",
        "test_pred1 = model1.predict(X_test)"
      ],
      "metadata": {
        "id": "RzF1cjGQgD4V"
      },
      "execution_count": 55,
      "outputs": []
    },
    {
      "cell_type": "code",
      "source": [
        "val_pred1 = pd.DataFrame(val_pred1)\n",
        "test_pred1 = pd.DataFrame(test_pred1)"
      ],
      "metadata": {
        "id": "R15WUIhrh2u1"
      },
      "execution_count": 56,
      "outputs": []
    },
    {
      "cell_type": "code",
      "source": [
        "# model 2 : KNN\n",
        "model2 = KNeighborsClassifier()\n",
        "model2.fit(X_train, y_train)"
      ],
      "metadata": {
        "colab": {
          "base_uri": "https://localhost:8080/"
        },
        "id": "5V0gCLsOULYV",
        "outputId": "20e27709-609b-4470-a558-b0e298a90ae2"
      },
      "execution_count": 57,
      "outputs": [
        {
          "output_type": "execute_result",
          "data": {
            "text/plain": [
              "KNeighborsClassifier()"
            ]
          },
          "metadata": {},
          "execution_count": 57
        }
      ]
    },
    {
      "cell_type": "code",
      "source": [
        "val_pred2 = model2.predict(X_valid)\n",
        "test_pred2 = model2.predict(X_test)"
      ],
      "metadata": {
        "id": "L4GCYuBxUdSJ"
      },
      "execution_count": 58,
      "outputs": []
    },
    {
      "cell_type": "code",
      "source": [
        "val_pred2 = pd.DataFrame(val_pred2)\n",
        "test_pred2 = pd.DataFrame(test_pred2)"
      ],
      "metadata": {
        "id": "PIQKS4WWiCYV"
      },
      "execution_count": 59,
      "outputs": []
    },
    {
      "cell_type": "markdown",
      "source": [
        "### Blending Model"
      ],
      "metadata": {
        "id": "yEDIqTc_Uxvk"
      }
    },
    {
      "cell_type": "code",
      "source": [
        "df_valid = pd.concat([X_valid.reset_index(), val_pred1.reset_index(), val_pred2.reset_index()], axis = 1)\n",
        "df_test = pd.concat([X_test.reset_index(), test_pred1.reset_index(), test_pred2.reset_index()], axis = 1)"
      ],
      "metadata": {
        "id": "F7Lca-h3U07q"
      },
      "execution_count": 88,
      "outputs": []
    },
    {
      "cell_type": "code",
      "source": [
        "from sklearn.linear_model import LogisticRegression"
      ],
      "metadata": {
        "id": "zJeMDiCaVAWf"
      },
      "execution_count": 89,
      "outputs": []
    },
    {
      "cell_type": "code",
      "source": [
        "model = LogisticRegression()\n",
        "model.fit(df_valid , y_valid)"
      ],
      "metadata": {
        "colab": {
          "base_uri": "https://localhost:8080/"
        },
        "id": "lKUPxnhaVP8e",
        "outputId": "ef6ab1ba-a11b-4286-f6e0-99a72670eb5d"
      },
      "execution_count": 90,
      "outputs": [
        {
          "output_type": "stream",
          "name": "stderr",
          "text": [
            "/usr/local/lib/python3.7/dist-packages/sklearn/utils/validation.py:1692: FutureWarning: Feature names only support names that are all strings. Got feature names with dtypes: ['int', 'str']. An error will be raised in 1.2.\n",
            "  FutureWarning,\n",
            "/usr/local/lib/python3.7/dist-packages/sklearn/linear_model/_logistic.py:818: ConvergenceWarning: lbfgs failed to converge (status=1):\n",
            "STOP: TOTAL NO. of ITERATIONS REACHED LIMIT.\n",
            "\n",
            "Increase the number of iterations (max_iter) or scale the data as shown in:\n",
            "    https://scikit-learn.org/stable/modules/preprocessing.html\n",
            "Please also refer to the documentation for alternative solver options:\n",
            "    https://scikit-learn.org/stable/modules/linear_model.html#logistic-regression\n",
            "  extra_warning_msg=_LOGISTIC_SOLVER_CONVERGENCE_MSG,\n"
          ]
        },
        {
          "output_type": "execute_result",
          "data": {
            "text/plain": [
              "LogisticRegression()"
            ]
          },
          "metadata": {},
          "execution_count": 90
        }
      ]
    },
    {
      "cell_type": "code",
      "source": [
        "model.score(df_test, y_test)"
      ],
      "metadata": {
        "colab": {
          "base_uri": "https://localhost:8080/"
        },
        "id": "KHL41DjFDikD",
        "outputId": "b6cf62a9-da2f-4fa2-858b-7368de075216"
      },
      "execution_count": 92,
      "outputs": [
        {
          "output_type": "stream",
          "name": "stderr",
          "text": [
            "/usr/local/lib/python3.7/dist-packages/sklearn/utils/validation.py:1692: FutureWarning: Feature names only support names that are all strings. Got feature names with dtypes: ['int', 'str']. An error will be raised in 1.2.\n",
            "  FutureWarning,\n"
          ]
        },
        {
          "output_type": "execute_result",
          "data": {
            "text/plain": [
              "0.7174887892376681"
            ]
          },
          "metadata": {},
          "execution_count": 92
        }
      ]
    },
    {
      "cell_type": "code",
      "source": [
        ""
      ],
      "metadata": {
        "id": "w0ytUIZSW3Ri"
      },
      "execution_count": 17,
      "outputs": []
    }
  ]
}