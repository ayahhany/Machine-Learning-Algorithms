{
  "nbformat": 4,
  "nbformat_minor": 0,
  "metadata": {
    "colab": {
      "name": "Bagging.ipynb",
      "provenance": [],
      "collapsed_sections": []
    },
    "kernelspec": {
      "name": "python3",
      "display_name": "Python 3"
    },
    "language_info": {
      "name": "python"
    }
  },
  "cells": [
    {
      "cell_type": "markdown",
      "source": [
        "Steps:\n",
        "1. Random subsets are created from the original dataset (bootstrapping) \n",
        "\n",
        "2. The subset of the dataset includes all features \n",
        "\n",
        "3. A user-specified base estimator is fitted on each of these smaller sets \n",
        "\n",
        "4. Predictions from each model are combined to get the final result "
      ],
      "metadata": {
        "id": "OxqgG6JjCeiH"
      }
    },
    {
      "cell_type": "code",
      "execution_count": 1,
      "metadata": {
        "id": "aeMxZbmyCOKI"
      },
      "outputs": [],
      "source": [
        "import pandas as pd\n",
        "import numpy as np"
      ]
    },
    {
      "cell_type": "code",
      "source": [
        "data = pd.read_csv('titanic_preprocessed.csv')\n",
        "X = data.drop(['Survived'], axis = 1)\n",
        "y = data['Survived']"
      ],
      "metadata": {
        "id": "4k-xn-AZC6yp"
      },
      "execution_count": 21,
      "outputs": []
    },
    {
      "cell_type": "code",
      "source": [
        "from sklearn.model_selection import train_test_split"
      ],
      "metadata": {
        "id": "z1PJMoXsCpt8"
      },
      "execution_count": 22,
      "outputs": []
    },
    {
      "cell_type": "code",
      "source": [
        "X_train, X_test, y_train, y_test = train_test_split(X,y, test_size = 0.25)"
      ],
      "metadata": {
        "id": "0OI-1DabC_wW"
      },
      "execution_count": 23,
      "outputs": []
    },
    {
      "cell_type": "code",
      "source": [
        "from sklearn.ensemble import BaggingClassifier\n",
        "from sklearn.tree import DecisionTreeClassifier"
      ],
      "metadata": {
        "id": "KIjZqZ_0DB3h"
      },
      "execution_count": 24,
      "outputs": []
    },
    {
      "cell_type": "code",
      "source": [
        "base_model = DecisionTreeClassifier(random_state = 1)\n",
        "model = BaggingClassifier(base_model)"
      ],
      "metadata": {
        "id": "iid_UHXgS6Vx"
      },
      "execution_count": 25,
      "outputs": []
    },
    {
      "cell_type": "code",
      "source": [
        "model.fit(X_train, y_train)"
      ],
      "metadata": {
        "id": "WtAUFo6tTitC",
        "colab": {
          "base_uri": "https://localhost:8080/"
        },
        "outputId": "437f244a-41f5-42db-e737-c4b9ad040d1d"
      },
      "execution_count": 26,
      "outputs": [
        {
          "output_type": "execute_result",
          "data": {
            "text/plain": [
              "BaggingClassifier(base_estimator=DecisionTreeClassifier(random_state=1))"
            ]
          },
          "metadata": {},
          "execution_count": 26
        }
      ]
    },
    {
      "cell_type": "code",
      "source": [
        "y_pred = model.predict(X_test)"
      ],
      "metadata": {
        "id": "81wPm_Mqb8nM"
      },
      "execution_count": 27,
      "outputs": []
    },
    {
      "cell_type": "code",
      "source": [
        "model.score(X_test, y_test)"
      ],
      "metadata": {
        "colab": {
          "base_uri": "https://localhost:8080/"
        },
        "id": "XUXm1LNwbYKX",
        "outputId": "244c2814-84dd-47a8-8de5-8062b6152a59"
      },
      "execution_count": 31,
      "outputs": [
        {
          "output_type": "execute_result",
          "data": {
            "text/plain": [
              "0.8385650224215246"
            ]
          },
          "metadata": {},
          "execution_count": 31
        }
      ]
    },
    {
      "cell_type": "code",
      "source": [
        ""
      ],
      "metadata": {
        "id": "tyqiOsi5cBcM"
      },
      "execution_count": null,
      "outputs": []
    }
  ]
}