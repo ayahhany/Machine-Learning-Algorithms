{
  "nbformat": 4,
  "nbformat_minor": 0,
  "metadata": {
    "colab": {
      "name": "RandomForestClassifier.ipynb",
      "provenance": [],
      "collapsed_sections": []
    },
    "kernelspec": {
      "name": "python3",
      "display_name": "Python 3"
    },
    "language_info": {
      "name": "python"
    }
  },
  "cells": [
    {
      "cell_type": "markdown",
      "source": [
        "Steps:\n",
        "1. Create multiple bootstrap samples \n",
        "\n",
        "2. Build a decision tree on every sample \n",
        "\n",
        "3. Use feature sampling for each split in decision tree \n",
        "\n",
        "4. Aggregate all decision trees to get the final output based on voting "
      ],
      "metadata": {
        "id": "OxqgG6JjCeiH"
      }
    },
    {
      "cell_type": "code",
      "execution_count": 32,
      "metadata": {
        "id": "aeMxZbmyCOKI"
      },
      "outputs": [],
      "source": [
        "import pandas as pd\n",
        "import numpy as np"
      ]
    },
    {
      "cell_type": "code",
      "source": [
        "data = pd.read_csv('titanic_preprocessed.csv')\n",
        "X = data.drop(['Survived'], axis = 1)\n",
        "y = data['Survived']"
      ],
      "metadata": {
        "id": "4k-xn-AZC6yp"
      },
      "execution_count": 33,
      "outputs": []
    },
    {
      "cell_type": "code",
      "source": [
        "from sklearn.model_selection import train_test_split"
      ],
      "metadata": {
        "id": "z1PJMoXsCpt8"
      },
      "execution_count": 34,
      "outputs": []
    },
    {
      "cell_type": "code",
      "source": [
        "X_train, X_test, y_train, y_test = train_test_split(X,y, random_state = 10)"
      ],
      "metadata": {
        "id": "0OI-1DabC_wW"
      },
      "execution_count": 48,
      "outputs": []
    },
    {
      "cell_type": "code",
      "source": [
        "y_train.value_counts()"
      ],
      "metadata": {
        "colab": {
          "base_uri": "https://localhost:8080/"
        },
        "id": "7Qqm2FJkgYkb",
        "outputId": "ff30faf9-1e51-42cc-e22b-1d6a27754e73"
      },
      "execution_count": 49,
      "outputs": [
        {
          "output_type": "execute_result",
          "data": {
            "text/plain": [
              "0    402\n",
              "1    266\n",
              "Name: Survived, dtype: int64"
            ]
          },
          "metadata": {},
          "execution_count": 49
        }
      ]
    },
    {
      "cell_type": "code",
      "source": [
        "y_test.value_counts()"
      ],
      "metadata": {
        "colab": {
          "base_uri": "https://localhost:8080/"
        },
        "id": "LKSQ93t3g6Vv",
        "outputId": "222de694-590d-44f9-dd86-fbbca738a849"
      },
      "execution_count": 51,
      "outputs": [
        {
          "output_type": "execute_result",
          "data": {
            "text/plain": [
              "0    147\n",
              "1     76\n",
              "Name: Survived, dtype: int64"
            ]
          },
          "metadata": {},
          "execution_count": 51
        }
      ]
    },
    {
      "cell_type": "code",
      "source": [
        "from sklearn.tree import DecisionTreeClassifier"
      ],
      "metadata": {
        "id": "KIjZqZ_0DB3h"
      },
      "execution_count": 52,
      "outputs": []
    },
    {
      "cell_type": "code",
      "source": [
        "dt = DecisionTreeClassifier()\n",
        "dt.fit(X_train, y_train)"
      ],
      "metadata": {
        "id": "iid_UHXgS6Vx",
        "colab": {
          "base_uri": "https://localhost:8080/"
        },
        "outputId": "1595c3a2-b88d-4aa6-bfbf-1f3d9fb67849"
      },
      "execution_count": 53,
      "outputs": [
        {
          "output_type": "execute_result",
          "data": {
            "text/plain": [
              "DecisionTreeClassifier()"
            ]
          },
          "metadata": {},
          "execution_count": 53
        }
      ]
    },
    {
      "cell_type": "code",
      "source": [
        "dt.score(X_train,y_train)"
      ],
      "metadata": {
        "colab": {
          "base_uri": "https://localhost:8080/"
        },
        "id": "rTh4Zb4YhNw1",
        "outputId": "99550d87-24b9-41cd-e002-b4375280c4ee"
      },
      "execution_count": 56,
      "outputs": [
        {
          "output_type": "execute_result",
          "data": {
            "text/plain": [
              "0.9850299401197605"
            ]
          },
          "metadata": {},
          "execution_count": 56
        }
      ]
    },
    {
      "cell_type": "code",
      "source": [
        "dt.score(X_test, y_test)"
      ],
      "metadata": {
        "colab": {
          "base_uri": "https://localhost:8080/"
        },
        "id": "XUXm1LNwbYKX",
        "outputId": "6e06df32-c236-4804-8320-374c64bd40d4"
      },
      "execution_count": 57,
      "outputs": [
        {
          "output_type": "execute_result",
          "data": {
            "text/plain": [
              "0.7802690582959642"
            ]
          },
          "metadata": {},
          "execution_count": 57
        }
      ]
    },
    {
      "cell_type": "markdown",
      "source": [
        "* the model doesn't perform well on the test dataset and it's not generalized enough"
      ],
      "metadata": {
        "id": "4d2wF2ZUhUlo"
      }
    },
    {
      "cell_type": "code",
      "source": [
        "from sklearn.ensemble import RandomForestClassifier"
      ],
      "metadata": {
        "id": "tyqiOsi5cBcM"
      },
      "execution_count": 58,
      "outputs": []
    },
    {
      "cell_type": "code",
      "source": [
        "rf = RandomForestClassifier()\n",
        "rf.fit(X_train, y_train)"
      ],
      "metadata": {
        "colab": {
          "base_uri": "https://localhost:8080/"
        },
        "id": "2VGEOs-whmii",
        "outputId": "b4500744-bbbd-4fa6-d041-e2ccd3a4d8f4"
      },
      "execution_count": 59,
      "outputs": [
        {
          "output_type": "execute_result",
          "data": {
            "text/plain": [
              "RandomForestClassifier()"
            ]
          },
          "metadata": {},
          "execution_count": 59
        }
      ]
    },
    {
      "cell_type": "code",
      "source": [
        "rf.score(X_train,y_train)"
      ],
      "metadata": {
        "colab": {
          "base_uri": "https://localhost:8080/"
        },
        "id": "W3TKXThxhrqs",
        "outputId": "5ae50c53-262e-487a-ff5e-b585e048c0cd"
      },
      "execution_count": 60,
      "outputs": [
        {
          "output_type": "execute_result",
          "data": {
            "text/plain": [
              "0.9850299401197605"
            ]
          },
          "metadata": {},
          "execution_count": 60
        }
      ]
    },
    {
      "cell_type": "code",
      "source": [
        "rf.score(X_test, y_test)"
      ],
      "metadata": {
        "colab": {
          "base_uri": "https://localhost:8080/"
        },
        "id": "RP80-hiehuWc",
        "outputId": "1897d466-f81a-4273-f16b-ee10e0bd9418"
      },
      "execution_count": 61,
      "outputs": [
        {
          "output_type": "execute_result",
          "data": {
            "text/plain": [
              "0.8116591928251121"
            ]
          },
          "metadata": {},
          "execution_count": 61
        }
      ]
    },
    {
      "cell_type": "code",
      "source": [
        "# try with hyper parameters\n",
        "rf1 = RandomForestClassifier(n_estimators=100, max_depth=15)\n",
        "rf1.fit(X_train, y_train)"
      ],
      "metadata": {
        "colab": {
          "base_uri": "https://localhost:8080/"
        },
        "id": "HSgbOKY-hwxl",
        "outputId": "951fbee7-f0e6-4089-859f-503bfcc7b268"
      },
      "execution_count": 62,
      "outputs": [
        {
          "output_type": "execute_result",
          "data": {
            "text/plain": [
              "RandomForestClassifier(max_depth=15)"
            ]
          },
          "metadata": {},
          "execution_count": 62
        }
      ]
    },
    {
      "cell_type": "code",
      "source": [
        "rf1.score(X_train,y_train)"
      ],
      "metadata": {
        "colab": {
          "base_uri": "https://localhost:8080/"
        },
        "id": "VepxFLqdiM1o",
        "outputId": "2d2bff82-4b2a-4bfe-b3e5-39b73b11390b"
      },
      "execution_count": 63,
      "outputs": [
        {
          "output_type": "execute_result",
          "data": {
            "text/plain": [
              "0.9730538922155688"
            ]
          },
          "metadata": {},
          "execution_count": 63
        }
      ]
    },
    {
      "cell_type": "code",
      "source": [
        "rf1.score(X_test, y_test)"
      ],
      "metadata": {
        "colab": {
          "base_uri": "https://localhost:8080/"
        },
        "id": "WRvRwlmliOm3",
        "outputId": "2f9a3d7d-7815-4241-e66f-ca1f2288645e"
      },
      "execution_count": 64,
      "outputs": [
        {
          "output_type": "execute_result",
          "data": {
            "text/plain": [
              "0.8340807174887892"
            ]
          },
          "metadata": {},
          "execution_count": 64
        }
      ]
    },
    {
      "cell_type": "code",
      "source": [
        "# importance of each feature\n",
        "rf.feature_importances_"
      ],
      "metadata": {
        "colab": {
          "base_uri": "https://localhost:8080/"
        },
        "id": "j30UFEw_iQkY",
        "outputId": "ac6a5aab-1595-4a9b-8934-be4006275324"
      },
      "execution_count": 66,
      "outputs": [
        {
          "output_type": "execute_result",
          "data": {
            "text/plain": [
              "array([0.25457795, 0.24384813, 0.03242212, 0.01645119, 0.04820453,\n",
              "       0.10666693, 0.14684779, 0.0221206 , 0.01452014, 0.00540779,\n",
              "       0.00672887, 0.00525677, 0.0008296 , 0.00252301, 0.0167592 ,\n",
              "       0.01603704, 0.0099949 , 0.00138098, 0.00171204, 0.00334153,\n",
              "       0.00071185, 0.01459414, 0.00957272, 0.01949015])"
            ]
          },
          "metadata": {},
          "execution_count": 66
        }
      ]
    },
    {
      "cell_type": "code",
      "source": [
        "pd.Series(rf.feature_importances_, index = X.columns)"
      ],
      "metadata": {
        "colab": {
          "base_uri": "https://localhost:8080/"
        },
        "id": "fAg8jNtoicfB",
        "outputId": "893de838-09a5-4d14-98bc-0930f2bdabb6"
      },
      "execution_count": 67,
      "outputs": [
        {
          "output_type": "execute_result",
          "data": {
            "text/plain": [
              "Age           0.254578\n",
              "Fare          0.243848\n",
              "Pclass_1      0.032422\n",
              "Pclass_2      0.016451\n",
              "Pclass_3      0.048205\n",
              "Sex_female    0.106667\n",
              "Sex_male      0.146848\n",
              "SibSp_0       0.022121\n",
              "SibSp_1       0.014520\n",
              "SibSp_2       0.005408\n",
              "SibSp_3       0.006729\n",
              "SibSp_4       0.005257\n",
              "SibSp_5       0.000830\n",
              "SibSp_8       0.002523\n",
              "Parch_0       0.016759\n",
              "Parch_1       0.016037\n",
              "Parch_2       0.009995\n",
              "Parch_3       0.001381\n",
              "Parch_4       0.001712\n",
              "Parch_5       0.003342\n",
              "Parch_6       0.000712\n",
              "Embarked_C    0.014594\n",
              "Embarked_Q    0.009573\n",
              "Embarked_S    0.019490\n",
              "dtype: float64"
            ]
          },
          "metadata": {},
          "execution_count": 67
        }
      ]
    },
    {
      "cell_type": "code",
      "source": [
        ""
      ],
      "metadata": {
        "id": "ktWbxvOxiqxo"
      },
      "execution_count": null,
      "outputs": []
    }
  ]
}