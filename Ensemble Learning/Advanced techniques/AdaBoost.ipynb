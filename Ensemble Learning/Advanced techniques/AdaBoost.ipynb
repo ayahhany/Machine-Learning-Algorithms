{
  "nbformat": 4,
  "nbformat_minor": 0,
  "metadata": {
    "colab": {
      "name": "AdaBoost.ipynb",
      "provenance": [],
      "collapsed_sections": []
    },
    "kernelspec": {
      "name": "python3",
      "display_name": "Python 3"
    },
    "language_info": {
      "name": "python"
    }
  },
  "cells": [
    {
      "cell_type": "markdown",
      "source": [
        "Steps:\n",
        "1. Build a model and make predictions \n",
        "\n",
        "2. Assign higher weight to misclassified points (this means the next model will focus more in these values) \n",
        "\n",
        "3. Build next model \n",
        "\n",
        "4. Repeat 2 and 3  \n",
        "\n",
        "5. Aggregate these models by taking the weighted avg of individual models  "
      ],
      "metadata": {
        "id": "OxqgG6JjCeiH"
      }
    },
    {
      "cell_type": "code",
      "execution_count": 61,
      "metadata": {
        "id": "aeMxZbmyCOKI"
      },
      "outputs": [],
      "source": [
        "import pandas as pd\n",
        "import numpy as np"
      ]
    },
    {
      "cell_type": "code",
      "source": [
        "data = pd.read_csv('titanic_preprocessed.csv')\n",
        "X = data.drop(['Survived'], axis = 1)\n",
        "y = data['Survived']"
      ],
      "metadata": {
        "id": "4k-xn-AZC6yp"
      },
      "execution_count": 62,
      "outputs": []
    },
    {
      "cell_type": "code",
      "source": [
        "from sklearn.model_selection import train_test_split"
      ],
      "metadata": {
        "id": "z1PJMoXsCpt8"
      },
      "execution_count": 63,
      "outputs": []
    },
    {
      "cell_type": "code",
      "source": [
        "X_train, X_test, y_train, y_test = train_test_split(X,y, random_state = 10)"
      ],
      "metadata": {
        "id": "0OI-1DabC_wW"
      },
      "execution_count": 64,
      "outputs": []
    },
    {
      "cell_type": "markdown",
      "source": [
        "### build an AdaBoost model"
      ],
      "metadata": {
        "id": "s52VCr_Ot85a"
      }
    },
    {
      "cell_type": "code",
      "source": [
        "from sklearn.ensemble import AdaBoostClassifier"
      ],
      "metadata": {
        "id": "Nk4YdMaBtwAe"
      },
      "execution_count": 67,
      "outputs": []
    },
    {
      "cell_type": "code",
      "source": [
        "abc = AdaBoostClassifier(random_state = 10)\n",
        "abc.fit(X_train, y_train)"
      ],
      "metadata": {
        "colab": {
          "base_uri": "https://localhost:8080/"
        },
        "id": "KP4PBp3uuLiJ",
        "outputId": "c40ef0c8-d94e-4503-9a23-31ae0ab4874c"
      },
      "execution_count": 68,
      "outputs": [
        {
          "output_type": "execute_result",
          "data": {
            "text/plain": [
              "AdaBoostClassifier(random_state=10)"
            ]
          },
          "metadata": {},
          "execution_count": 68
        }
      ]
    },
    {
      "cell_type": "code",
      "source": [
        "abc.score(X_train, y_train)"
      ],
      "metadata": {
        "colab": {
          "base_uri": "https://localhost:8080/"
        },
        "id": "8CZtov0quYel",
        "outputId": "f91ea34e-6b4e-49c9-8674-dc3020dce385"
      },
      "execution_count": 69,
      "outputs": [
        {
          "output_type": "execute_result",
          "data": {
            "text/plain": [
              "0.8293413173652695"
            ]
          },
          "metadata": {},
          "execution_count": 69
        }
      ]
    },
    {
      "cell_type": "code",
      "source": [
        "abc.score(X_test, y_test)"
      ],
      "metadata": {
        "colab": {
          "base_uri": "https://localhost:8080/"
        },
        "id": "RC94atMOufK5",
        "outputId": "fa8c6ea2-114d-4af8-e2f6-2462d3ea81d9"
      },
      "execution_count": 70,
      "outputs": [
        {
          "output_type": "execute_result",
          "data": {
            "text/plain": [
              "0.8295964125560538"
            ]
          },
          "metadata": {},
          "execution_count": 70
        }
      ]
    },
    {
      "cell_type": "code",
      "source": [
        "# test parameters\n",
        "'''\n",
        "    Base_estimator: the model to ensemble, default is decision tree \n",
        "\n",
        "    N_estimators: total number of models to build \n",
        "\n",
        "    Learning_rate: shrinks the contribution of each classifier by this value \n",
        "\n",
        "    Random_state: random number seed so that same random numbers are generated every time \n",
        "'''\n",
        "from sklearn.ensemble import RandomForestClassifier\n",
        "abc = AdaBoostClassifier(base_estimator=RandomForestClassifier(random_state=10) ,\n",
        "                         n_estimators=100, learning_rate = 0.1 \n",
        "                         ,random_state = 100)"
      ],
      "metadata": {
        "id": "1XLgfAoMui0Y"
      },
      "execution_count": 81,
      "outputs": []
    },
    {
      "cell_type": "code",
      "source": [
        "abc.fit(X_train, y_train)"
      ],
      "metadata": {
        "colab": {
          "base_uri": "https://localhost:8080/"
        },
        "id": "VMuf7IrKZThu",
        "outputId": "6bdd4b53-152f-4f44-e273-9234c1d486d0"
      },
      "execution_count": 82,
      "outputs": [
        {
          "output_type": "execute_result",
          "data": {
            "text/plain": [
              "AdaBoostClassifier(base_estimator=RandomForestClassifier(random_state=10),\n",
              "                   learning_rate=0.1, n_estimators=100, random_state=100)"
            ]
          },
          "metadata": {},
          "execution_count": 82
        }
      ]
    },
    {
      "cell_type": "code",
      "source": [
        "abc.score(X_train, y_train)"
      ],
      "metadata": {
        "colab": {
          "base_uri": "https://localhost:8080/"
        },
        "id": "wM0iBeq4ZWiQ",
        "outputId": "05f90471-1a21-4e4f-f8c1-616ee3fe3fca"
      },
      "execution_count": 83,
      "outputs": [
        {
          "output_type": "execute_result",
          "data": {
            "text/plain": [
              "0.9850299401197605"
            ]
          },
          "metadata": {},
          "execution_count": 83
        }
      ]
    },
    {
      "cell_type": "code",
      "source": [
        "abc.score(X_test, y_test)"
      ],
      "metadata": {
        "colab": {
          "base_uri": "https://localhost:8080/"
        },
        "id": "Xen2CJsvZYFt",
        "outputId": "f6d4626c-00af-42e9-f8bf-aeeee9abe2ce"
      },
      "execution_count": 84,
      "outputs": [
        {
          "output_type": "execute_result",
          "data": {
            "text/plain": [
              "0.8340807174887892"
            ]
          },
          "metadata": {},
          "execution_count": 84
        }
      ]
    }
  ]
}