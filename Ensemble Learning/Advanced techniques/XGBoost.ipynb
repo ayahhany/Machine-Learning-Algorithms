{
  "nbformat": 4,
  "nbformat_minor": 0,
  "metadata": {
    "colab": {
      "name": "XGBoost.ipynb",
      "provenance": [],
      "collapsed_sections": []
    },
    "kernelspec": {
      "name": "python3",
      "display_name": "Python 3"
    },
    "language_info": {
      "name": "python"
    }
  },
  "cells": [
    {
      "cell_type": "markdown",
      "source": [
        "GBM Steps: \n",
        "\n",
        "1. Build a model and make prediction on given data \n",
        "\n",
        "2. Calculate the error/residuals  \n",
        "\n",
        "3. Create new model and set this errors as target and make predictions \n",
        "\n",
        "4. Update the predictions of model 1 \n",
        "\n",
        "  * Model 2 = model 1 + gamma * predictions \n",
        "\n",
        "5. Repeat step 2 to 4 "
      ],
      "metadata": {
        "id": "OxqgG6JjCeiH"
      }
    },
    {
      "cell_type": "code",
      "execution_count": 1,
      "metadata": {
        "id": "aeMxZbmyCOKI"
      },
      "outputs": [],
      "source": [
        "import pandas as pd\n",
        "import numpy as np"
      ]
    },
    {
      "cell_type": "code",
      "source": [
        "data = pd.read_csv('titanic_preprocessed.csv')\n",
        "X = data.drop(['Survived'], axis = 1)\n",
        "y = data['Survived']"
      ],
      "metadata": {
        "id": "4k-xn-AZC6yp"
      },
      "execution_count": 2,
      "outputs": []
    },
    {
      "cell_type": "code",
      "source": [
        "from sklearn.model_selection import train_test_split"
      ],
      "metadata": {
        "id": "z1PJMoXsCpt8"
      },
      "execution_count": 3,
      "outputs": []
    },
    {
      "cell_type": "code",
      "source": [
        "X_train, X_test, y_train, y_test = train_test_split(X,y, random_state = 10)"
      ],
      "metadata": {
        "id": "0OI-1DabC_wW"
      },
      "execution_count": 4,
      "outputs": []
    },
    {
      "cell_type": "code",
      "source": [
        "y_train.value_counts()"
      ],
      "metadata": {
        "colab": {
          "base_uri": "https://localhost:8080/"
        },
        "id": "7Qqm2FJkgYkb",
        "outputId": "20a2427e-bbdb-48f6-d21a-9384d8b1c3ff"
      },
      "execution_count": 5,
      "outputs": [
        {
          "output_type": "execute_result",
          "data": {
            "text/plain": [
              "0    402\n",
              "1    266\n",
              "Name: Survived, dtype: int64"
            ]
          },
          "metadata": {},
          "execution_count": 5
        }
      ]
    },
    {
      "cell_type": "code",
      "source": [
        "y_test.value_counts()"
      ],
      "metadata": {
        "colab": {
          "base_uri": "https://localhost:8080/"
        },
        "id": "LKSQ93t3g6Vv",
        "outputId": "02bab972-be7c-4e14-c52e-5e8e08159670"
      },
      "execution_count": 6,
      "outputs": [
        {
          "output_type": "execute_result",
          "data": {
            "text/plain": [
              "0    147\n",
              "1     76\n",
              "Name: Survived, dtype: int64"
            ]
          },
          "metadata": {},
          "execution_count": 6
        }
      ]
    },
    {
      "cell_type": "code",
      "source": [
        "# install XGBoost\n",
        "!pip install xgboost"
      ],
      "metadata": {
        "colab": {
          "base_uri": "https://localhost:8080/"
        },
        "id": "Nk4YdMaBtwAe",
        "outputId": "945ef3db-05db-41b6-c795-a7995dfcdab3"
      },
      "execution_count": 7,
      "outputs": [
        {
          "output_type": "stream",
          "name": "stdout",
          "text": [
            "Requirement already satisfied: xgboost in /usr/local/lib/python3.7/dist-packages (0.90)\n",
            "Requirement already satisfied: numpy in /usr/local/lib/python3.7/dist-packages (from xgboost) (1.21.6)\n",
            "Requirement already satisfied: scipy in /usr/local/lib/python3.7/dist-packages (from xgboost) (1.4.1)\n"
          ]
        }
      ]
    },
    {
      "cell_type": "markdown",
      "source": [
        "#### Build XGM model"
      ],
      "metadata": {
        "id": "s52VCr_Ot85a"
      }
    },
    {
      "cell_type": "code",
      "source": [
        "# import XGM classifier\n",
        "from xgboost import XGBClassifier"
      ],
      "metadata": {
        "id": "oblebsaat5AH"
      },
      "execution_count": 8,
      "outputs": []
    },
    {
      "cell_type": "code",
      "source": [
        "xgb = XGBClassifier(random_state = 10)\n",
        "xgb.fit(X_train, y_train)"
      ],
      "metadata": {
        "colab": {
          "base_uri": "https://localhost:8080/"
        },
        "id": "KP4PBp3uuLiJ",
        "outputId": "a92f5223-b550-4d65-9bc6-043776c56e21"
      },
      "execution_count": 9,
      "outputs": [
        {
          "output_type": "execute_result",
          "data": {
            "text/plain": [
              "XGBClassifier(random_state=10)"
            ]
          },
          "metadata": {},
          "execution_count": 9
        }
      ]
    },
    {
      "cell_type": "code",
      "source": [
        "xgb.score(X_train, y_train)"
      ],
      "metadata": {
        "colab": {
          "base_uri": "https://localhost:8080/"
        },
        "id": "8CZtov0quYel",
        "outputId": "8e588e72-2005-4420-d18f-9ab3d305d59a"
      },
      "execution_count": 10,
      "outputs": [
        {
          "output_type": "execute_result",
          "data": {
            "text/plain": [
              "0.8652694610778443"
            ]
          },
          "metadata": {},
          "execution_count": 10
        }
      ]
    },
    {
      "cell_type": "code",
      "source": [
        "xgb.score(X_test, y_test)"
      ],
      "metadata": {
        "colab": {
          "base_uri": "https://localhost:8080/"
        },
        "id": "RC94atMOufK5",
        "outputId": "83c0cf23-8515-42e6-ee90-4fc994ffdd3d"
      },
      "execution_count": 11,
      "outputs": [
        {
          "output_type": "execute_result",
          "data": {
            "text/plain": [
              "0.8385650224215246"
            ]
          },
          "metadata": {},
          "execution_count": 11
        }
      ]
    },
    {
      "cell_type": "code",
      "source": [
        "# test parameters\n",
        "'''\n",
        "    N_estimator: total number of trees \n",
        "\n",
        "    Learning_rate: detirmines the impact of each tree on the final outcome \n",
        "\n",
        "    Random_state: random number seed so that same random numbers are generated every time \n",
        "\n",
        "    Max_depth: (stopping criteria) \n",
        "\n",
        "    Subsample: the factor of observations to be selected for each tree (random sampling) \n",
        "\n",
        "    Objective: defines Loss function \n",
        "\n",
        "    Colsample_bylevel: random feature selection at levels \n",
        "\n",
        "    Colsample_bytree: random feature selection at tree \n",
        "'''\n",
        "\n",
        "xgb = XGBClassifier(random_state = 10, n_estimator =4, learning_rate = 0.1, max_depth = 2,)"
      ],
      "metadata": {
        "id": "1XLgfAoMui0Y"
      },
      "execution_count": 29,
      "outputs": []
    },
    {
      "cell_type": "code",
      "source": [
        "xgb.fit(X_train, y_train)"
      ],
      "metadata": {
        "colab": {
          "base_uri": "https://localhost:8080/"
        },
        "id": "VMuf7IrKZThu",
        "outputId": "b739e766-28ac-4f35-a323-37317897607f"
      },
      "execution_count": 30,
      "outputs": [
        {
          "output_type": "execute_result",
          "data": {
            "text/plain": [
              "XGBClassifier(max_depth=2, n_estimator=4, random_state=10)"
            ]
          },
          "metadata": {},
          "execution_count": 30
        }
      ]
    },
    {
      "cell_type": "code",
      "source": [
        "xgb.score(X_train, y_train)"
      ],
      "metadata": {
        "colab": {
          "base_uri": "https://localhost:8080/"
        },
        "id": "wM0iBeq4ZWiQ",
        "outputId": "c10ea9f6-923d-42e7-c247-c8451211cbe3"
      },
      "execution_count": 31,
      "outputs": [
        {
          "output_type": "execute_result",
          "data": {
            "text/plain": [
              "0.8308383233532934"
            ]
          },
          "metadata": {},
          "execution_count": 31
        }
      ]
    },
    {
      "cell_type": "code",
      "source": [
        "xgb.score(X_test, y_test)"
      ],
      "metadata": {
        "colab": {
          "base_uri": "https://localhost:8080/"
        },
        "id": "Xen2CJsvZYFt",
        "outputId": "4f3a8341-7e8a-45d3-8d8c-dd7ebb1244d3"
      },
      "execution_count": 32,
      "outputs": [
        {
          "output_type": "execute_result",
          "data": {
            "text/plain": [
              "0.8565022421524664"
            ]
          },
          "metadata": {},
          "execution_count": 32
        }
      ]
    },
    {
      "cell_type": "code",
      "source": [
        "# Regularization\n",
        "'''\n",
        "    Gamma: min reduction/change in loss at every split \n",
        "\n",
        "    Reg_alpha: makes leaf weights = 0 \n",
        "\n",
        "    Reg_lambda: decreases leaf weights more smoothly \n",
        "'''\n",
        "xgb = XGBClassifier(random_state = 10, gamma = 0.1, learning_rate = 0.4)"
      ],
      "metadata": {
        "id": "jGrizvIRZaKY"
      },
      "execution_count": 57,
      "outputs": []
    },
    {
      "cell_type": "code",
      "source": [
        "xgb.fit(X_train, y_train)"
      ],
      "metadata": {
        "colab": {
          "base_uri": "https://localhost:8080/"
        },
        "id": "J4LN1KGIaK_X",
        "outputId": "5f6cbbe5-913a-422f-8616-220cc0a05c96"
      },
      "execution_count": 58,
      "outputs": [
        {
          "output_type": "execute_result",
          "data": {
            "text/plain": [
              "XGBClassifier(gamma=0.1, learning_rate=0.4, random_state=10)"
            ]
          },
          "metadata": {},
          "execution_count": 58
        }
      ]
    },
    {
      "cell_type": "code",
      "source": [
        "xgb.score(X_train, y_train)"
      ],
      "metadata": {
        "colab": {
          "base_uri": "https://localhost:8080/"
        },
        "id": "v-C2cLyuac5E",
        "outputId": "e53c6ad2-6051-4a1d-bc9e-d20312cb5be7"
      },
      "execution_count": 59,
      "outputs": [
        {
          "output_type": "execute_result",
          "data": {
            "text/plain": [
              "0.9236526946107785"
            ]
          },
          "metadata": {},
          "execution_count": 59
        }
      ]
    },
    {
      "cell_type": "code",
      "source": [
        "xgb.score(X_test, y_test)"
      ],
      "metadata": {
        "colab": {
          "base_uri": "https://localhost:8080/"
        },
        "id": "wrgLr2pHaeFI",
        "outputId": "0bbc9bf4-067c-47d6-ae9e-17ba93d9f521"
      },
      "execution_count": 60,
      "outputs": [
        {
          "output_type": "execute_result",
          "data": {
            "text/plain": [
              "0.8340807174887892"
            ]
          },
          "metadata": {},
          "execution_count": 60
        }
      ]
    },
    {
      "cell_type": "code",
      "source": [
        ""
      ],
      "metadata": {
        "id": "PX6N7aLuafWd"
      },
      "execution_count": null,
      "outputs": []
    }
  ]
}